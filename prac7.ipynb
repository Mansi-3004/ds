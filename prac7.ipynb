{
 "cells": [
  {
   "cell_type": "code",
   "execution_count": 1,
   "id": "7f1326d2",
   "metadata": {},
   "outputs": [],
   "source": [
    "sample_doc = \"Natural Language Processing allows machines to understand human language.\"\n"
   ]
  },
  {
   "cell_type": "code",
   "execution_count": 3,
   "id": "f20abf74",
   "metadata": {},
   "outputs": [
    {
     "name": "stdout",
     "output_type": "stream",
     "text": [
      "Tokens: ['Natural', 'Language', 'Processing', 'allows', 'machines', 'to', 'understand', 'human', 'language', '.']\n",
      "POS Tags: [('Natural', 'JJ'), ('Language', 'NNP'), ('Processing', 'NNP'), ('allows', 'VBZ'), ('machines', 'NNS'), ('to', 'TO'), ('understand', 'VB'), ('human', 'JJ'), ('language', 'NN'), ('.', '.')]\n",
      "Without Stop Words: ['Natural', 'Language', 'Processing', 'allows', 'machines', 'understand', 'human', 'language', '.']\n",
      "Stemmed: ['natur', 'languag', 'process', 'allow', 'machin', 'understand', 'human', 'languag', '.']\n",
      "Lemmatized: ['Natural', 'Language', 'Processing', 'allows', 'machine', 'understand', 'human', 'language', '.']\n"
     ]
    },
    {
     "name": "stderr",
     "output_type": "stream",
     "text": [
      "[nltk_data] Downloading package punkt to\n",
      "[nltk_data]     C:\\Users\\mansi\\AppData\\Roaming\\nltk_data...\n",
      "[nltk_data]   Package punkt is already up-to-date!\n",
      "[nltk_data] Downloading package stopwords to\n",
      "[nltk_data]     C:\\Users\\mansi\\AppData\\Roaming\\nltk_data...\n",
      "[nltk_data]   Package stopwords is already up-to-date!\n",
      "[nltk_data] Downloading package wordnet to\n",
      "[nltk_data]     C:\\Users\\mansi\\AppData\\Roaming\\nltk_data...\n",
      "[nltk_data]   Package wordnet is already up-to-date!\n",
      "[nltk_data] Downloading package averaged_perceptron_tagger to\n",
      "[nltk_data]     C:\\Users\\mansi\\AppData\\Roaming\\nltk_data...\n",
      "[nltk_data]   Package averaged_perceptron_tagger is already up-to-\n",
      "[nltk_data]       date!\n"
     ]
    }
   ],
   "source": [
    "import nltk\n",
    "from nltk.tokenize import word_tokenize\n",
    "from nltk.corpus import stopwords\n",
    "from nltk.stem import PorterStemmer, WordNetLemmatizer\n",
    "from nltk import pos_tag\n",
    "\n",
    "# Download resources (only once)\n",
    "nltk.download('punkt')\n",
    "nltk.download('stopwords')\n",
    "nltk.download('wordnet')\n",
    "nltk.download('averaged_perceptron_tagger')\n",
    "\n",
    "# Tokenization\n",
    "tokens = word_tokenize(sample_doc)\n",
    "\n",
    "# POS Tagging\n",
    "pos = pos_tag(tokens)\n",
    "\n",
    "# Remove stop words\n",
    "stop_words = set(stopwords.words('english'))\n",
    "filtered = [w for w in tokens if w.lower() not in stop_words]\n",
    "\n",
    "# Stemming\n",
    "stemmer = PorterStemmer()\n",
    "stemmed = [stemmer.stem(w) for w in filtered]\n",
    "\n",
    "# Lemmatization\n",
    "lemmatizer = WordNetLemmatizer()\n",
    "lemmatized = [lemmatizer.lemmatize(w) for w in filtered]\n",
    "\n",
    "# Print all results\n",
    "\n",
    "print(\"Tokens:\", tokens)\n",
    "print(\"POS Tags:\", pos)\n",
    "print(\"Without Stop Words:\", filtered)\n",
    "print(\"Stemmed:\", stemmed)\n",
    "print(\"Lemmatized:\", lemmatized)\n"
   ]
  },
  {
   "cell_type": "code",
   "execution_count": 4,
   "id": "8b64de63",
   "metadata": {},
   "outputs": [],
   "source": [
    "\n",
    "docs = [\n",
    "    \"NLP helps machines understand language.\",\n",
    "    \"Language is used to communicate.\",\n",
    "    \"Machines use NLP for language processing.\"\n",
    "]\n"
   ]
  },
  {
   "cell_type": "code",
   "execution_count": 5,
   "id": "42a0d45f",
   "metadata": {},
   "outputs": [
    {
     "name": "stdout",
     "output_type": "stream",
     "text": [
      "TF Result:\n",
      " [[0 0 1 0 1 1 1 0 0 1 0 0]\n",
      " [1 0 0 1 1 0 0 0 1 0 0 1]\n",
      " [0 1 0 0 1 1 1 1 0 0 1 0]]\n",
      "Words: ['communicate' 'for' 'helps' 'is' 'language' 'machines' 'nlp' 'processing'\n",
      " 'to' 'understand' 'use' 'used']\n",
      "TF-IDF Result:\n",
      " [[0.         0.         0.53409337 0.         0.31544415 0.40619178\n",
      "  0.40619178 0.         0.         0.53409337 0.         0.        ]\n",
      " [0.47952794 0.         0.         0.47952794 0.28321692 0.\n",
      "  0.         0.         0.47952794 0.         0.         0.47952794]\n",
      " [0.         0.4711101  0.         0.         0.27824521 0.35829137\n",
      "  0.35829137 0.4711101  0.         0.         0.4711101  0.        ]]\n",
      "Words: ['communicate' 'for' 'helps' 'is' 'language' 'machines' 'nlp' 'processing'\n",
      " 'to' 'understand' 'use' 'used']\n"
     ]
    }
   ],
   "source": [
    "from sklearn.feature_extraction.text import CountVectorizer, TfidfVectorizer\n",
    "\n",
    "# Term Frequency\n",
    "tf = CountVectorizer()\n",
    "tf_result = tf.fit_transform(docs)\n",
    "print(\"TF Result:\\n\", tf_result.toarray())\n",
    "print(\"Words:\", tf.get_feature_names_out())\n",
    "\n",
    "# TF-IDF\n",
    "tfidf = TfidfVectorizer()\n",
    "tfidf_result = tfidf.fit_transform(docs)\n",
    "print(\"TF-IDF Result:\\n\", tfidf_result.toarray())\n",
    "print(\"Words:\", tfidf.get_feature_names_out())\n"
   ]
  },
  {
   "cell_type": "code",
   "execution_count": null,
   "id": "ab0e2243",
   "metadata": {},
   "outputs": [],
   "source": []
  }
 ],
 "metadata": {
  "kernelspec": {
   "display_name": "Python 3 (ipykernel)",
   "language": "python",
   "name": "python3"
  },
  "language_info": {
   "codemirror_mode": {
    "name": "ipython",
    "version": 3
   },
   "file_extension": ".py",
   "mimetype": "text/x-python",
   "name": "python",
   "nbconvert_exporter": "python",
   "pygments_lexer": "ipython3",
   "version": "3.11.5"
  }
 },
 "nbformat": 4,
 "nbformat_minor": 5
}
